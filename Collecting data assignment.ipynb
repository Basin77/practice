{
 "cells": [
  {
   "cell_type": "code",
   "execution_count": 21,
   "id": "625ba625-3bde-421d-8d4e-75afa2cb7a44",
   "metadata": {},
   "outputs": [],
   "source": [
    "import requests\n",
    "from bs4 import BeautifulSoup\n",
    "import pandas as pd\n",
    "pd.set_option('display.max_colwidth',None)"
   ]
  },
  {
   "cell_type": "code",
   "execution_count": 32,
   "id": "cdda6437-518a-4e81-9739-86e178829414",
   "metadata": {},
   "outputs": [
    {
     "data": {
      "text/html": [
       "<div>\n",
       "<style scoped>\n",
       "    .dataframe tbody tr th:only-of-type {\n",
       "        vertical-align: middle;\n",
       "    }\n",
       "\n",
       "    .dataframe tbody tr th {\n",
       "        vertical-align: top;\n",
       "    }\n",
       "\n",
       "    .dataframe thead th {\n",
       "        text-align: right;\n",
       "    }\n",
       "</style>\n",
       "<table border=\"1\" class=\"dataframe\">\n",
       "  <thead>\n",
       "    <tr style=\"text-align: right;\">\n",
       "      <th></th>\n",
       "      <th>Unnamed: 0</th>\n",
       "      <th>Title</th>\n",
       "      <th>Artist</th>\n",
       "      <th>Lyrics</th>\n",
       "    </tr>\n",
       "  </thead>\n",
       "  <tbody>\n",
       "    <tr>\n",
       "      <th>0</th>\n",
       "      <td>0</td>\n",
       "      <td>\"El MaÃ±ana\"</td>\n",
       "      <td>Gorillaz</td>\n",
       "      <td>Summer don't know me no moreHe got mad, that's allSummer don't know meHe just left me low in myself'Cause I took no loveFrom you thenJust dying, yeahI saw that dayLost my mindLord, I'm fineMaybe in timeYou'll want to be mineDon't stop the buck when it comesIt's the dawn, you'll seeMoney won't get thereTen years passed tonightYou'll fleeIf you do thatI'll be someoneTo find youI saw that dayLost my mindLord, I'm fineMaybe in timeYou'll want to be mineI saw that dayLost my mindLord, I'm fineMaybe in timeYou'll want to be mineMaybe in timeYou'll want to be mineMaybe in timeYou'll want to be mine</td>\n",
       "    </tr>\n",
       "    <tr>\n",
       "      <th>1</th>\n",
       "      <td>1</td>\n",
       "      <td>\"Oh Yeah\"</td>\n",
       "      <td>Daft Punk</td>\n",
       "      <td>Oh Yeah ,... ,Everybody dance ,Crazy on the dance [x2],Oh Yeah ,... ,Everybody dance ,Crazy on the dance [x2],Oh Yeah ,... ,Well Baby ,Everybody dance ,Crazy on the dance [x2],Oh Yeah ,...</td>\n",
       "    </tr>\n",
       "    <tr>\n",
       "      <th>2</th>\n",
       "      <td>2</td>\n",
       "      <td>\"The Falls\"</td>\n",
       "      <td>Whitney</td>\n",
       "      <td>Til the falls ran dry I was lost inside morning lightI took too much to slow downThese days and nights I can't be foundThese days and nights I can't be foundCause now I'm not too sure I knowWhich way the rising river flowsOn the night I lose controlOh dear, don't you let me goTil the falls ran dry I was up all night chasing timeIn the morning it turns aroundI hope I'm climbing when I'm downI hope I'm climbing when I'm downCause now I'm not too sure I knowWhich way the rising river flowsOn the night I lose controlOh dear, don't you let me go</td>\n",
       "    </tr>\n",
       "  </tbody>\n",
       "</table>\n",
       "</div>"
      ],
      "text/plain": [
       "   Unnamed: 0          Title      Artist  \\\n",
       "0           0  \"El MaÃ±ana\"    Gorillaz    \n",
       "1           1     \"Oh Yeah\"   Daft Punk    \n",
       "2           2   \"The Falls\"     Whitney    \n",
       "\n",
       "                                                                                                                                                                                                                                                                                                                                                                                                                                                                                                                                                                                                                    Lyrics  \n",
       "0  Summer don't know me no moreHe got mad, that's allSummer don't know meHe just left me low in myself'Cause I took no loveFrom you thenJust dying, yeahI saw that dayLost my mindLord, I'm fineMaybe in timeYou'll want to be mineDon't stop the buck when it comesIt's the dawn, you'll seeMoney won't get thereTen years passed tonightYou'll fleeIf you do thatI'll be someoneTo find youI saw that dayLost my mindLord, I'm fineMaybe in timeYou'll want to be mineI saw that dayLost my mindLord, I'm fineMaybe in timeYou'll want to be mineMaybe in timeYou'll want to be mineMaybe in timeYou'll want to be mine   \n",
       "1                                                                                                                                                                                                                                                                                                                                                                                                                            Oh Yeah ,... ,Everybody dance ,Crazy on the dance [x2],Oh Yeah ,... ,Everybody dance ,Crazy on the dance [x2],Oh Yeah ,... ,Well Baby ,Everybody dance ,Crazy on the dance [x2],Oh Yeah ,...   \n",
       "2                                                      Til the falls ran dry I was lost inside morning lightI took too much to slow downThese days and nights I can't be foundThese days and nights I can't be foundCause now I'm not too sure I knowWhich way the rising river flowsOn the night I lose controlOh dear, don't you let me goTil the falls ran dry I was up all night chasing timeIn the morning it turns aroundI hope I'm climbing when I'm downI hope I'm climbing when I'm downCause now I'm not too sure I knowWhich way the rising river flowsOn the night I lose controlOh dear, don't you let me go   "
      ]
     },
     "execution_count": 32,
     "metadata": {},
     "output_type": "execute_result"
    }
   ],
   "source": [
    "def data_frame(url):\n",
    "    response = requests.get(url)\n",
    "    html_string = response.text\n",
    "    document = BeautifulSoup(html_string, 'html.parser')\n",
    "    Title = document.find('h1').text.replace('lyrics', '')\n",
    "    Artist = document.find('h2').text.replace('Lyrics', '')\n",
    "    text = document.find('div', attrs = 'col-xs-12 col-lg-8 text-center').text.replace('\\\\', '').replace('\\n', '')\n",
    "    string = 'Submit Corrections'\n",
    "    head, seq, tail = text.partition(string)\n",
    "    lyrics = head\n",
    "    _,body = lyrics.split('\\r', 1)\n",
    "    Lyrics = body.replace('\\r', ',')\n",
    "    return Title, Artist, Lyrics\n",
    "\n",
    "def dataframe(urls):\n",
    "    list = []\n",
    "    for url in urls:\n",
    "        list.append(data_frame(url))\n",
    "    lrc = pd.DataFrame(list, columns = ['Title','Artist', 'Lyrics'])\n",
    "    lrc.to_csv('Lyrics.csv')\n",
    "    df = pd.read_csv('Lyrics.csv')\n",
    "    return df\n",
    "\n",
    "urls = ('https://www.azlyrics.com/lyrics/gorillaz/elmanana.html', \n",
    "        'https://www.azlyrics.com/lyrics/daftpunk/ohyeah.html', \n",
    "        'https://www.azlyrics.com/lyrics/whitney/thefalls.html')\n",
    "\n",
    "dataframe(urls)\n",
    "\n"
   ]
  },
  {
   "cell_type": "code",
   "execution_count": null,
   "id": "6a59e4dd-245d-4970-ae45-a77f1189c6f3",
   "metadata": {},
   "outputs": [],
   "source": []
  }
 ],
 "metadata": {
  "kernelspec": {
   "display_name": "Python 3 (ipykernel)",
   "language": "python",
   "name": "python3"
  },
  "language_info": {
   "codemirror_mode": {
    "name": "ipython",
    "version": 3
   },
   "file_extension": ".py",
   "mimetype": "text/x-python",
   "name": "python",
   "nbconvert_exporter": "python",
   "pygments_lexer": "ipython3",
   "version": "3.9.12"
  }
 },
 "nbformat": 4,
 "nbformat_minor": 5
}
